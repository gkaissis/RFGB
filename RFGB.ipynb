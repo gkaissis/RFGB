{
  "nbformat": 4,
  "nbformat_minor": 0,
  "metadata": {
    "kernelspec": {
      "display_name": "Python 3",
      "language": "python",
      "name": "python3"
    },
    "language_info": {
      "codemirror_mode": {
        "name": "ipython",
        "version": 3
      },
      "file_extension": ".py",
      "mimetype": "text/x-python",
      "name": "python",
      "nbconvert_exporter": "python",
      "pygments_lexer": "ipython3",
      "version": "3.7.6"
    },
    "colab": {
      "name": "RFGB.ipynb",
      "provenance": []
    }
  },
  "cells": [
    {
      "cell_type": "code",
      "metadata": {
        "id": "UW6F429obHBq",
        "colab_type": "code",
        "colab": {}
      },
      "source": [
        "from sklearn.tree import DecisionTreeRegressor, DecisionTreeClassifier\n",
        "from sklearn.datasets import load_boston, load_breast_cancer\n",
        "from sklearn.model_selection import train_test_split\n",
        "from sklearn.metrics import accuracy_score, mean_absolute_error\n",
        "from collections import Counter\n",
        "import numpy as np\n",
        "np.set_printoptions(precision=3)\n",
        "import jax\n",
        "import jax.numpy as jnp\n",
        "from typing import Tuple, Union"
      ],
      "execution_count": 0,
      "outputs": []
    },
    {
      "cell_type": "markdown",
      "metadata": {
        "id": "gtLbd3WpbHBv",
        "colab_type": "text"
      },
      "source": [
        "# 1. Datasets"
      ]
    },
    {
      "cell_type": "code",
      "metadata": {
        "id": "NrChuYElbHBv",
        "colab_type": "code",
        "colab": {}
      },
      "source": [
        "#Classification Dataset\n",
        "X_class, y_class = load_breast_cancer(return_X_y=True)\n",
        "X_train_c, X_test_c, y_train_c, y_test_c = train_test_split(X_class, y_class)\n",
        "\n",
        "### Regression Dataset\n",
        "X_reg, y_reg = load_boston(return_X_y=True)\n",
        "X_train_r, X_test_r, y_train_r, y_test_r = train_test_split(X_reg, y_reg)"
      ],
      "execution_count": 0,
      "outputs": []
    },
    {
      "cell_type": "markdown",
      "metadata": {
        "id": "1OXSiEfxbHBz",
        "colab_type": "text"
      },
      "source": [
        "# 2. Random Forest"
      ]
    },
    {
      "cell_type": "code",
      "metadata": {
        "id": "x3B3UlaYbHBz",
        "colab_type": "code",
        "colab": {}
      },
      "source": [
        "class RandomForest:\n",
        "    \n",
        "    def __init__(self, n_estimators:int=100, subsample:float=0.1, regression:bool=True, **kwargs)->None:\n",
        "        self.n_estimators = n_estimators\n",
        "        self.estimators = []\n",
        "        self.subsample = subsample\n",
        "      \n",
        "        for _ in range(self.n_estimators):\n",
        "            if regression:\n",
        "                self.estimators.append(DecisionTreeRegressor(**kwargs))\n",
        "            else:\n",
        "                self.estimators.append(DecisionTreeClassifier(**kwargs))\n",
        "            \n",
        "               \n",
        "    def bootstrap_sample(self, X:np.array, y:np.array)->Tuple[np.array,...]:\n",
        "        n_samples = X.shape[0]\n",
        "        idxs = np.random.choice(n_samples, size=int(self.subsample*n_samples), replace=True)\n",
        "        return X[idxs], y[idxs]\n",
        "    \n",
        "    def fit(self, X:np.array, y:np.array)->None:\n",
        "        for estimator in self.estimators:\n",
        "            X_sample, y_sample = self.bootstrap_sample(X, y)\n",
        "            estimator.fit(X_sample, y_sample)\n",
        "\n",
        "        \n",
        "    def predict(self, X:np.array)->np.array:\n",
        "        preds = np.array([estimator.predict(X) for estimator in self.estimators])\n",
        "        preds = np.swapaxes(preds, 0, 1)\n",
        "        return np.array([self._most_common_pred(pred) for pred in preds])\n",
        "        \n",
        "    def _most_common_pred(self, y:np.array)->Union[float, int]:\n",
        "        return Counter(y).most_common(1)[0][0]"
      ],
      "execution_count": 0,
      "outputs": []
    },
    {
      "cell_type": "markdown",
      "metadata": {
        "id": "l18u-2unbHB2",
        "colab_type": "text"
      },
      "source": [
        "## 3.1. Random Forest Classifier"
      ]
    },
    {
      "cell_type": "code",
      "metadata": {
        "id": "Njpt40H8bHB2",
        "colab_type": "code",
        "colab": {}
      },
      "source": [
        "rfc = RandomForest(regression=False)"
      ],
      "execution_count": 0,
      "outputs": []
    },
    {
      "cell_type": "code",
      "metadata": {
        "id": "o6ayjTB5bHB4",
        "colab_type": "code",
        "colab": {}
      },
      "source": [
        "rfc.fit(X_train_c, y_train_c)"
      ],
      "execution_count": 0,
      "outputs": []
    },
    {
      "cell_type": "code",
      "metadata": {
        "id": "jA3fPa2fbHB5",
        "colab_type": "code",
        "colab": {
          "base_uri": "https://localhost:8080/",
          "height": 34
        },
        "outputId": "385f5f66-1d4e-4f9b-cabd-16dd0ec04057"
      },
      "source": [
        "print(accuracy_score(rfc.predict(X_test_c), y_test_c).round(3))"
      ],
      "execution_count": 6,
      "outputs": [
        {
          "output_type": "stream",
          "text": [
            "0.958\n"
          ],
          "name": "stdout"
        }
      ]
    },
    {
      "cell_type": "markdown",
      "metadata": {
        "id": "wyfaoWjMbHB7",
        "colab_type": "text"
      },
      "source": [
        "## 3.2. Random Forest Regressor"
      ]
    },
    {
      "cell_type": "code",
      "metadata": {
        "id": "NVkEuLATbHB7",
        "colab_type": "code",
        "colab": {}
      },
      "source": [
        "rfr = RandomForest(regression=True)"
      ],
      "execution_count": 0,
      "outputs": []
    },
    {
      "cell_type": "code",
      "metadata": {
        "id": "M17e5tMEbHB8",
        "colab_type": "code",
        "colab": {}
      },
      "source": [
        "rfr.fit(X_train_r, y_train_r)"
      ],
      "execution_count": 0,
      "outputs": []
    },
    {
      "cell_type": "code",
      "metadata": {
        "id": "azdU7ogsbHB9",
        "colab_type": "code",
        "colab": {
          "base_uri": "https://localhost:8080/",
          "height": 34
        },
        "outputId": "39496b30-27c7-41e4-eb96-75359c7e9847"
      },
      "source": [
        "print(mean_absolute_error(y_test_r, rfr.predict(X_test_r)).round(3))"
      ],
      "execution_count": 9,
      "outputs": [
        {
          "output_type": "stream",
          "text": [
            "3.787\n"
          ],
          "name": "stdout"
        }
      ]
    },
    {
      "cell_type": "markdown",
      "metadata": {
        "id": "Sz5FkjWrbHB_",
        "colab_type": "text"
      },
      "source": [
        "___\n",
        "\n",
        "# 4. Gradient Boosting"
      ]
    },
    {
      "cell_type": "code",
      "metadata": {
        "id": "a9pmSTUVbHB_",
        "colab_type": "code",
        "colab": {}
      },
      "source": [
        "# Loss functions\n",
        "def MSE(y_true:jnp.array, y_pred:jnp.array):\n",
        "    return jnp.mean(jnp.sum(jnp.square(y_true-y_pred)))\n",
        "\n",
        "def CrossEntropy(y_true:jnp.array, y_proba:jnp.array):\n",
        "    y_proba = jnp.clip(y_proba, 1e-5, 1 - 1e-5)\n",
        "    return jnp.sum(- y_true * jnp.log(y_proba) - (1 - y_true) * jnp.log(1 - y_proba))"
      ],
      "execution_count": 0,
      "outputs": []
    },
    {
      "cell_type": "code",
      "metadata": {
        "id": "RqJIy-aybHCA",
        "colab_type": "code",
        "colab": {}
      },
      "source": [
        "class GradientBoosting:\n",
        "\n",
        "    def __init__(self, n_estimators:int=100, learning_rate:float=.1, regression:bool=True, **kwargs):\n",
        "        self.n_estimators = n_estimators\n",
        "        self.learning_rate = learning_rate\n",
        "        self.regression = regression\n",
        "        self.loss = MSE if self.regression else CrossEntropy\n",
        "\n",
        "        self.estimators = []\n",
        "        for _ in range(self.n_estimators):\n",
        "                self.estimators.append(DecisionTreeRegressor(**kwargs))\n",
        "\n",
        "    def fit(self, X:np.array, y:np.array):\n",
        "        y_pred = np.full(np.shape(y), np.mean(y))\n",
        "        for i, estimator in enumerate(self.estimators):\n",
        "            gradient = jax.grad(self.loss, argnums=1)(y.astype(np.float32), y_pred.astype(np.float32))\n",
        "            self.estimators[i].fit(X, gradient)\n",
        "            update = self.estimators[i].predict(X)\n",
        "            y_pred -= (self.learning_rate * update)\n",
        "\n",
        "    def predict(self, X:np.array):\n",
        "        y_pred = np.zeros(X.shape[0], dtype=np.float32)\n",
        "        for estimator in self.estimators:\n",
        "            y_pred -= (self.learning_rate * estimator.predict(X))\n",
        "    \n",
        "        if not self.regression:\n",
        "            return np.where(1/(1 + np.exp(-y_pred))>.5, 1, 0)\n",
        "        return y_pred"
      ],
      "execution_count": 0,
      "outputs": []
    },
    {
      "cell_type": "markdown",
      "metadata": {
        "id": "u8XMuLqdbHCB",
        "colab_type": "text"
      },
      "source": [
        "## 4.1 Gradient Boosting Regressor"
      ]
    },
    {
      "cell_type": "code",
      "metadata": {
        "id": "jqH293E4bHCC",
        "colab_type": "code",
        "colab": {}
      },
      "source": [
        "gbr = GradientBoosting(regression=True)"
      ],
      "execution_count": 0,
      "outputs": []
    },
    {
      "cell_type": "code",
      "metadata": {
        "id": "jeIDQWhIbHCD",
        "colab_type": "code",
        "colab": {}
      },
      "source": [
        "gbr.fit(X_train_r, y_train_r)"
      ],
      "execution_count": 0,
      "outputs": []
    },
    {
      "cell_type": "code",
      "metadata": {
        "id": "iV6RLwq6bHCE",
        "colab_type": "code",
        "colab": {
          "base_uri": "https://localhost:8080/",
          "height": 34
        },
        "outputId": "8250e069-3eef-437b-8d48-48491ca8efe5"
      },
      "source": [
        "print(mean_absolute_error(gbr.predict(X_test_r), y_test_r).round(3))"
      ],
      "execution_count": 21,
      "outputs": [
        {
          "output_type": "stream",
          "text": [
            "22.788\n"
          ],
          "name": "stdout"
        }
      ]
    },
    {
      "cell_type": "markdown",
      "metadata": {
        "id": "f_1SNcHhbHCF",
        "colab_type": "text"
      },
      "source": [
        "## 4.2 Gradient Boosting Classifier"
      ]
    },
    {
      "cell_type": "code",
      "metadata": {
        "id": "uqyUxIf4bHCF",
        "colab_type": "code",
        "colab": {}
      },
      "source": [
        "gbc = GradientBoosting(regression=False)"
      ],
      "execution_count": 0,
      "outputs": []
    },
    {
      "cell_type": "code",
      "metadata": {
        "id": "K_3r58afbHCG",
        "colab_type": "code",
        "colab": {}
      },
      "source": [
        "gbc.fit(X_train_c, y_train_c)"
      ],
      "execution_count": 0,
      "outputs": []
    },
    {
      "cell_type": "code",
      "metadata": {
        "id": "0XXeK9LwbHCH",
        "colab_type": "code",
        "colab": {
          "base_uri": "https://localhost:8080/",
          "height": 34
        },
        "outputId": "73e06fe0-79c6-48de-eeb2-fb3474f362e2"
      },
      "source": [
        "print(accuracy_score(gbc.predict(X_test_c), y_test_c).round(3))"
      ],
      "execution_count": 28,
      "outputs": [
        {
          "output_type": "stream",
          "text": [
            "0.944\n"
          ],
          "name": "stdout"
        }
      ]
    },
    {
      "cell_type": "code",
      "metadata": {
        "id": "J6OCwqH4bk7W",
        "colab_type": "code",
        "colab": {}
      },
      "source": [
        ""
      ],
      "execution_count": 0,
      "outputs": []
    }
  ]
}