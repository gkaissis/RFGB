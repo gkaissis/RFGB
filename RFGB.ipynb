{
 "cells": [
  {
   "cell_type": "code",
   "execution_count": 1,
   "metadata": {},
   "outputs": [],
   "source": [
    "from sklearn.tree import DecisionTreeRegressor, DecisionTreeClassifier\n",
    "from sklearn.datasets import load_boston, load_breast_cancer\n",
    "from sklearn.model_selection import train_test_split\n",
    "from sklearn.metrics import accuracy_score, mean_absolute_error\n",
    "from collections import Counter\n",
    "import numpy as np\n",
    "np.set_printoptions(precision=3)\n",
    "import jax\n",
    "import jax.numpy as jnp\n",
    "from typing import Tuple, Union"
   ]
  },
  {
   "cell_type": "markdown",
   "metadata": {},
   "source": [
    "# 1. Datasets"
   ]
  },
  {
   "cell_type": "code",
   "execution_count": 2,
   "metadata": {},
   "outputs": [],
   "source": [
    "#Classification Dataset\n",
    "X_class, y_class = load_breast_cancer(return_X_y=True)\n",
    "X_train_c, X_test_c, y_train_c, y_test_c = train_test_split(X_class, y_class)\n",
    "\n",
    "### Regression Dataset\n",
    "X_reg, y_reg = load_boston(return_X_y=True)\n",
    "X_train_r, X_test_r, y_train_r, y_test_r = train_test_split(X_reg, y_reg)"
   ]
  },
  {
   "cell_type": "markdown",
   "metadata": {},
   "source": [
    "# 2. Random Forest"
   ]
  },
  {
   "cell_type": "code",
   "execution_count": 3,
   "metadata": {},
   "outputs": [],
   "source": [
    "class RandomForest:\n",
    "    \n",
    "    def __init__(self, n_estimators:int=100, subsample:float=0.1, regression:bool=True, **kwargs)->None:\n",
    "        self.n_estimators = n_estimators\n",
    "        self.estimators = []\n",
    "        self.subsample = subsample\n",
    "      \n",
    "        for _ in range(self.n_estimators):\n",
    "            if regression:\n",
    "                self.estimators.append(DecisionTreeRegressor(**kwargs))\n",
    "            else:\n",
    "                self.estimators.append(DecisionTreeClassifier(**kwargs))\n",
    "            \n",
    "               \n",
    "    def bootstrap_sample(self, X:np.array, y:np.array)->Tuple[np.array,...]:\n",
    "        n_samples = X.shape[0]\n",
    "        idxs = np.random.choice(n_samples, size=int(self.subsample*n_samples), replace=True)\n",
    "        return X[idxs], y[idxs]\n",
    "    \n",
    "    def fit(self, X:np.array, y:np.array)->None:\n",
    "        for estimator in self.estimators:\n",
    "            X_sample, y_sample = self.bootstrap_sample(X, y)\n",
    "            estimator.fit(X_sample, y_sample)\n",
    "\n",
    "        \n",
    "    def predict(self, X:np.array)->np.array:\n",
    "        preds = np.array([estimator.predict(X) for estimator in self.estimators])\n",
    "        preds = np.swapaxes(preds, 0, 1)\n",
    "        return np.array([self._most_common_pred(pred) for pred in preds])\n",
    "        \n",
    "    def _most_common_pred(self, y:np.array)->Union[float, int]:\n",
    "        return Counter(y).most_common(1)[0][0]"
   ]
  },
  {
   "cell_type": "markdown",
   "metadata": {},
   "source": [
    "## 3.1. Random Forest Classifier"
   ]
  },
  {
   "cell_type": "code",
   "execution_count": 4,
   "metadata": {},
   "outputs": [],
   "source": [
    "rfc = RandomForest(regression=False)"
   ]
  },
  {
   "cell_type": "code",
   "execution_count": 5,
   "metadata": {},
   "outputs": [],
   "source": [
    "rfc.fit(X_train_c, y_train_c)"
   ]
  },
  {
   "cell_type": "code",
   "execution_count": 19,
   "metadata": {},
   "outputs": [
    {
     "name": "stdout",
     "output_type": "stream",
     "text": [
      "0.944\n"
     ]
    }
   ],
   "source": [
    "print(accuracy_score(rfc.predict(X_test_c), y_test_c).round(3))"
   ]
  },
  {
   "cell_type": "markdown",
   "metadata": {},
   "source": [
    "## 3.2. Random Forest Regressor"
   ]
  },
  {
   "cell_type": "code",
   "execution_count": 7,
   "metadata": {},
   "outputs": [],
   "source": [
    "rfr = RandomForest(regression=True)"
   ]
  },
  {
   "cell_type": "code",
   "execution_count": 8,
   "metadata": {},
   "outputs": [],
   "source": [
    "rfr.fit(X_train_r, y_train_r)"
   ]
  },
  {
   "cell_type": "code",
   "execution_count": 20,
   "metadata": {},
   "outputs": [
    {
     "name": "stdout",
     "output_type": "stream",
     "text": [
      "3.846\n"
     ]
    }
   ],
   "source": [
    "print(mean_absolute_error(y_test_r, rfr.predict(X_test_r)).round(3))"
   ]
  },
  {
   "cell_type": "markdown",
   "metadata": {},
   "source": [
    "___\n",
    "\n",
    "# 4. Gradient Boosting"
   ]
  },
  {
   "cell_type": "code",
   "execution_count": 10,
   "metadata": {},
   "outputs": [],
   "source": [
    "# Loss functions\n",
    "def MSE(y_true:jnp.array, y_pred:jnp.array):\n",
    "    return jnp.mean(jnp.sum(jnp.square(y_true-y_pred)))\n",
    "\n",
    "def CrossEntropy(y_true:jnp.array, y_proba:jnp.array):\n",
    "    y_proba = jnp.clip(y_proba, 1e-5, 1 - 1e-5)\n",
    "    return jnp.sum(- y_true * jnp.log(y_proba) - (1 - y_true) * jnp.log(1 - y_proba))"
   ]
  },
  {
   "cell_type": "code",
   "execution_count": 11,
   "metadata": {},
   "outputs": [],
   "source": [
    "class GradientBoosting:\n",
    "\n",
    "    def __init__(self, n_estimators:int=100, learning_rate:float=.1, regression:bool=True, **kwargs):\n",
    "        self.n_estimators = n_estimators\n",
    "        self.learning_rate = learning_rate\n",
    "        self.regression = regression\n",
    "        self.loss = MSE if self.regression else CrossEntropy\n",
    "\n",
    "        self.estimators = []\n",
    "        for _ in range(self.n_estimators):\n",
    "                self.estimators.append(DecisionTreeRegressor(**kwargs))\n",
    "\n",
    "    def fit(self, X:np.array, y:np.array):\n",
    "        y_pred = np.full(np.shape(y), np.mean(y))\n",
    "        for i, estimator in enumerate(self.estimators):\n",
    "            gradient = jax.grad(self.loss, argnums=1)(y.astype(np.float32), y_pred.astype(np.float32))\n",
    "            self.estimators[i].fit(X, gradient)\n",
    "            update = self.estimators[i].predict(X)\n",
    "            y_pred -= (self.learning_rate * update)\n",
    "\n",
    "    def predict(self, X:np.array):\n",
    "        y_pred = np.zeros(X.shape[0], dtype=np.float32)\n",
    "        for estimator in self.estimators:\n",
    "            y_pred -= (self.learning_rate * estimator.predict(X))\n",
    "    \n",
    "        if not self.regression:\n",
    "            return np.where(np.exp(y_pred)>1, 1, 0)\n",
    "        return y_pred"
   ]
  },
  {
   "cell_type": "markdown",
   "metadata": {},
   "source": [
    "## 4.1 Gradient Boosting Regressor"
   ]
  },
  {
   "cell_type": "code",
   "execution_count": 12,
   "metadata": {},
   "outputs": [],
   "source": [
    "gbr = GradientBoosting(regression=True)"
   ]
  },
  {
   "cell_type": "code",
   "execution_count": 13,
   "metadata": {},
   "outputs": [
    {
     "name": "stderr",
     "output_type": "stream",
     "text": [
      "/Users/georgioskaissis/opt/miniconda3/envs/numba/lib/python3.7/site-packages/jax/lib/xla_bridge.py:122: UserWarning: No GPU/TPU found, falling back to CPU.\n",
      "  warnings.warn('No GPU/TPU found, falling back to CPU.')\n"
     ]
    }
   ],
   "source": [
    "gbr.fit(X_train_r, y_train_r)"
   ]
  },
  {
   "cell_type": "code",
   "execution_count": 21,
   "metadata": {},
   "outputs": [
    {
     "name": "stdout",
     "output_type": "stream",
     "text": [
      "23.13\n"
     ]
    }
   ],
   "source": [
    "print(mean_absolute_error(gbr.predict(X_test_r), y_test_r).round(3))"
   ]
  },
  {
   "cell_type": "markdown",
   "metadata": {},
   "source": [
    "## 4.2 Gradient Boosting Classifier"
   ]
  },
  {
   "cell_type": "code",
   "execution_count": 15,
   "metadata": {},
   "outputs": [],
   "source": [
    "gbc = GradientBoosting(regression=False)"
   ]
  },
  {
   "cell_type": "code",
   "execution_count": 16,
   "metadata": {},
   "outputs": [],
   "source": [
    "gbc.fit(X_train_c, y_train_c)"
   ]
  },
  {
   "cell_type": "code",
   "execution_count": 22,
   "metadata": {},
   "outputs": [
    {
     "name": "stdout",
     "output_type": "stream",
     "text": [
      "0.93\n"
     ]
    }
   ],
   "source": [
    "print(accuracy_score(gbc.predict(X_test_c), y_test_c).round(3))"
   ]
  }
 ],
 "metadata": {
  "kernelspec": {
   "display_name": "Python 3",
   "language": "python",
   "name": "python3"
  },
  "language_info": {
   "codemirror_mode": {
    "name": "ipython",
    "version": 3
   },
   "file_extension": ".py",
   "mimetype": "text/x-python",
   "name": "python",
   "nbconvert_exporter": "python",
   "pygments_lexer": "ipython3",
   "version": "3.7.6"
  }
 },
 "nbformat": 4,
 "nbformat_minor": 4
}
